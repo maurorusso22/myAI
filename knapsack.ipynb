{
 "cells": [
  {
   "cell_type": "markdown",
   "metadata": {},
   "source": [
    "# The Knapsack Problem: A Search-Based Approach"
   ]
  },
  {
   "cell_type": "markdown",
   "metadata": {},
   "source": [
    "The Knapsack problem is a classic optimization problem in computer science and operations research. It involves selecting a subset of items, each with a given weight and value, to fit into a knapsack with a weight limit while optimizing a given objective. Two common variations of the problem include:\n",
    "\n",
    " - Minimizing weight while ensuring a minimum total value\n",
    " - Maximizing value while staying within a given weight constraint\n",
    "\n",
    "In this implementation, we use a Uniform Cost Search (UCS) approach to explore possible solutions while maintaining efficiency. The algorithm explores different states (item selections) while ensuring that constraints are met and the optimal solution is found."
   ]
  },
  {
   "cell_type": "markdown",
   "metadata": {},
   "source": [
    "Our UCSAgent class solves two variants of the Knapsack problem using Uniform Cost Search (UCS):\n",
    "\n",
    " - Minimizing weight with a minimum value threshold\n",
    "    - The algorithm explores different subsets of items.\n",
    "    - It searches for the combination with the lowest weight while ensuring the total value is above the given threshold.\n",
    "\n",
    " - Maximizing value with a weight constraint\n",
    "    - The search prioritizes subsets that have higher value while ensuring the total weight does not exceed the constraint.\n",
    "    - The best state is selected based on the highest value and the lowest possible weight.\n",
    "\n",
    "The implementation maintains a frontier of possible item sets and iteratively expands the best state until an optimal solution is reached."
   ]
  },
  {
   "cell_type": "code",
   "execution_count": 7,
   "metadata": {},
   "outputs": [],
   "source": [
    "class UCSAgent():\n",
    "    def __init__(self, minimum_value, items, maximum_weight):\n",
    "        \"\"\"\n",
    "        Initialize the UCSAgent with constraints and item options.\n",
    "        \n",
    "        :param minimum_value: The minimum value the selected items must have.\n",
    "        :param items: A dictionary of items with (value, weight) tuples.\n",
    "        :param maximum_weight: The maximum weight allowed for the knapsack.\n",
    "        \"\"\"\n",
    "        self.minimum_value = minimum_value\n",
    "        self.maximum_weight = maximum_weight\n",
    "        self.items = items\n",
    "        self.frontier = [set()]  # Frontier initialized with an empty set\n",
    "\n",
    "    def state_value(self, state):\n",
    "        \"\"\"Calculate the total value of the given state (set of selected items).\"\"\"\n",
    "        return sum([self.items[el][0] for el in state])\n",
    "\n",
    "    def state_weight(self, state):\n",
    "        \"\"\"Calculate the total weight of the given state (set of selected items).\"\"\"\n",
    "        return sum([self.items[el][1] for el in state])\n",
    "\n",
    "    # Problem 1: Find the minimum weight selection that meets the minimum value threshold\n",
    "\n",
    "    def get_minimum_weight_state(self):\n",
    "        \"\"\"Find the state in the frontier with the least weight.\"\"\"\n",
    "        minimum = float('inf')\n",
    "        result = set()\n",
    "        for s in self.frontier:\n",
    "            sw = self.state_weight(s)\n",
    "            if sw < minimum:\n",
    "                minimum = sw\n",
    "                result = s\n",
    "        return result\n",
    "\n",
    "    def search1(self):\n",
    "        \"\"\"\n",
    "        Perform Uniform Cost Search (UCS) to find the optimal set of items \n",
    "        that satisfies the minimum value requirement with the least weight.\n",
    "        \"\"\"\n",
    "        # Get the current best state (lowest weight)\n",
    "        minimum_weight_state = self.get_minimum_weight_state()\n",
    "        \n",
    "        # Remove this state from the frontier\n",
    "        self.frontier.remove(minimum_weight_state)\n",
    "\n",
    "        # If the current state meets the minimum value requirement, return it as the solution\n",
    "        if self.state_value(minimum_weight_state) >= self.minimum_value:\n",
    "            return minimum_weight_state\n",
    "\n",
    "        # Expand the frontier with new possible states by adding items\n",
    "        self.frontier = []\n",
    "        for item in self.items:\n",
    "            new_state = minimum_weight_state.copy()\n",
    "            new_state.add(item)\n",
    "            if new_state != minimum_weight_state:  # Ensure it's a new state\n",
    "                self.frontier.append(new_state)\n",
    "\n",
    "        # Recursively continue the search\n",
    "        return self.search1()\n",
    "\n",
    "    # Problem 2: Find the maximum value selection within the weight limit\n",
    "\n",
    "    def get_best_state(self):\n",
    "        \"\"\"Find the best state that maximizes value while keeping weight as low as possible.\"\"\"\n",
    "        maximum_value = 0\n",
    "        minimum_weight = float('inf')\n",
    "        result = set()\n",
    "        for s in self.frontier:\n",
    "            sv = self.state_value(s)\n",
    "            sw = self.state_weight(s)\n",
    "            if sv >= maximum_value and sw < minimum_weight:\n",
    "                maximum_value = sv\n",
    "                minimum_weight = sw\n",
    "                result = s\n",
    "        return result\n",
    "\n",
    "    def search2(self):\n",
    "        \"\"\"\n",
    "        Perform search to find the set of items with the maximum value while staying within the weight limit.\n",
    "        \"\"\"\n",
    "        best_state = self.get_best_state()\n",
    "        self.frontier = []\n",
    "\n",
    "        # Expand the frontier by adding new items while staying within the weight constraint\n",
    "        for item in self.items:\n",
    "            new_state = best_state.copy()\n",
    "            if item not in new_state:\n",
    "                new_state.add(item)\n",
    "                if self.state_weight(new_state) < self.maximum_weight:\n",
    "                    self.frontier.append(new_state)\n",
    "\n",
    "        # If no new states can be added, return the best state found\n",
    "        if len(self.frontier) == 0:\n",
    "            return best_state\n",
    "\n",
    "        return self.search2()\n"
   ]
  },
  {
   "cell_type": "code",
   "execution_count": 8,
   "metadata": {},
   "outputs": [
    {
     "name": "stdout",
     "output_type": "stream",
     "text": [
      "SOLUTION Problem 1: {'bottle', 'map', 'compass'}\n",
      "SOLUTION Problem 2: {'map', 'compass'}\n"
     ]
    }
   ],
   "source": [
    "# Define the items with their respective values and weights\n",
    "items = {\n",
    "    'bottle': (1, 600), \n",
    "    'binoculars': (2, 900), \n",
    "    'map': (2, 150), \n",
    "    'compass': (1, 200)\n",
    "}\n",
    "\n",
    "# Solve the first variation of the problem:\n",
    "a = UCSAgent(4, items, 800)\n",
    "print('SOLUTION Problem 1:', a.search1())\n",
    "\n",
    "# Solve the second variation:\n",
    "a.frontier = [set()]\n",
    "print('SOLUTION Problem 2:', a.search2())"
   ]
  },
  {
   "cell_type": "markdown",
   "metadata": {},
   "source": [
    "This implementation of the Knapsack problem using Uniform Cost Search (UCS) efficiently finds optimal solutions for two variations of the problem.\n",
    "\n",
    "This project demonstrates the power of state-space search algorithms in solving combinatorial optimization problems and highlights the importance of efficient data structures in search-based solutions."
   ]
  }
 ],
 "metadata": {
  "kernelspec": {
   "display_name": "base",
   "language": "python",
   "name": "python3"
  },
  "language_info": {
   "codemirror_mode": {
    "name": "ipython",
    "version": 3
   },
   "file_extension": ".py",
   "mimetype": "text/x-python",
   "name": "python",
   "nbconvert_exporter": "python",
   "pygments_lexer": "ipython3",
   "version": "3.11.4"
  }
 },
 "nbformat": 4,
 "nbformat_minor": 2
}
